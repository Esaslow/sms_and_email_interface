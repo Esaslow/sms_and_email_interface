{
 "cells": [
  {
   "cell_type": "code",
   "execution_count": 1,
   "metadata": {},
   "outputs": [],
   "source": [
    "ORG_EMAIL   = \"@colorado.edu\"\n",
    "FROM_EMAIL  = \"Elsa7762\" + ORG_EMAIL"
   ]
  },
  {
   "cell_type": "code",
   "execution_count": 5,
   "metadata": {},
   "outputs": [],
   "source": [
    "import smtplib\n",
    "import time\n",
    "import imaplib\n",
    "from email.message import Message\n",
    "import json\n",
    "from email.mime.text import MIMEText\n",
    "from bs4 import BeautifulSoup\n",
    "import nltk\n"
   ]
  },
  {
   "cell_type": "code",
   "execution_count": 35,
   "metadata": {},
   "outputs": [],
   "source": [
    "def Send_update(From_email, To_email, server, Password,epoch,batch):\n",
    "    '''\n",
    "    Sends an email that lets the user know that the code has finished running\n",
    "    '''\n",
    "    smtpObj = smtplib.SMTP(server, 587)\n",
    "    smtpObj.ehlo()\n",
    "    smtpObj.starttls()\n",
    "    smtpObj.login(From_email, Password)\n",
    "    text = 'Epoch: Out of 100 | Batch  Out of 2706'\n",
    "    text = 'hello Epoch'\n",
    "    print(type(text))\n",
    "    smtpObj.sendmail(From_email, To_email,text)\n",
    "    return True"
   ]
  },
  {
   "cell_type": "code",
   "execution_count": 36,
   "metadata": {},
   "outputs": [
    {
     "name": "stdout",
     "output_type": "stream",
     "text": [
      "<class 'str'>\n"
     ]
    },
    {
     "data": {
      "text/plain": [
       "True"
      ]
     },
     "execution_count": 36,
     "metadata": {},
     "output_type": "execute_result"
    }
   ],
   "source": [
    "Send_update(FROM_EMAIL,\n",
    "                        FROM_EMAIL,\n",
    "                        \"imap.gmail.com\",\n",
    "                        'Gahesas1293!',5,10)"
   ]
  },
  {
   "cell_type": "code",
   "execution_count": null,
   "metadata": {},
   "outputs": [],
   "source": []
  }
 ],
 "metadata": {
  "kernelspec": {
   "display_name": "Python 3",
   "language": "python",
   "name": "python3"
  },
  "language_info": {
   "codemirror_mode": {
    "name": "ipython",
    "version": 3
   },
   "file_extension": ".py",
   "mimetype": "text/x-python",
   "name": "python",
   "nbconvert_exporter": "python",
   "pygments_lexer": "ipython3",
   "version": "3.6.4"
  }
 },
 "nbformat": 4,
 "nbformat_minor": 2
}
