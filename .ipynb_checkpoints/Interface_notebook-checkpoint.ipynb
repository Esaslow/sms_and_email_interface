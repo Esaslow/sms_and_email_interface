{
 "cells": [
  {
   "cell_type": "code",
   "execution_count": 1,
   "metadata": {},
   "outputs": [],
   "source": [
    "import email_interface as E"
   ]
  },
  {
   "cell_type": "markdown",
   "metadata": {},
   "source": [
    "### ReadMe\n",
    "#### Building an email and text interface so that I know when my code finishes running\n",
    "Ok -- so a major problem that I have encounter when developing is that my code can take a lot of time to run training on.  During this time, I don't need to be waiting on my code to finish, but rather I can be working on other projects.\n",
    "\n",
    "Commonly, I will be running the scripts in the cloud (AWS) so I needed to find a way to know when my code was finished running.  An easy solution to this is to send either a text or email update when my code finished running.  I implemented a system for both(through gmail) and the code is in `email_interface` and `text_interface` respectively.  \n",
    "\n",
    "This notebook is for implimentation in other situations. I just clone this repo into the directory i am working in and then I can natively send emails.\n",
    "\n",
    "**------------------------------------------------------------------------**\n",
    "\n",
    "**------------------------------------------------------------------------**\n",
    "\n",
    "\n",
    "#### Email Interface\n",
    "**Below is the different functions I have implimented:**\n",
    "- When the script starts I put this section at the top to take in the email password and make sure the user does not misspell the password"
   ]
  },
  {
   "cell_type": "markdown",
   "metadata": {},
   "source": [
    "```\n",
    "#Enter your password twice to ensure no spelling errors\n",
    "password1 = input(\"What is your email password?: \")\n",
    "password2 = input(\"Please type it again: \")\n",
    "\n",
    "#If there was a spelling error, or the passwords don't match, ask for the passwords again\n",
    "#repeat until the two entries match\n",
    "while password1 != password2:\n",
    "    password1 = True\n",
    "    password2 = False\n",
    "    print('your password didnt match, please reenter it:')\n",
    "    password1 = input(\"What is your email password?: \")\n",
    "    password2 = input(\"Please type it again \")\n",
    "    \n",
    "# When the passowrd match, set the global variable of password equal to the matched passwords\n",
    "if password1 == password2:\n",
    "    password = password1\n",
    "    ```\n",
    "    \n",
    "**------------------------------------------------------------------------**\n",
    "\n",
    "**------------------------------------------------------------------------**\n"
   ]
  },
  {
   "cell_type": "markdown",
   "metadata": {},
   "source": [
    "## Functions available from the interface that I built:\n",
    "### Completion of Code Email:\n",
    "This is a very useful function for knowing when the script is done running, and therefore the virtual machine can be shutdown.  This should be placed at the end of the script\n",
    "\n",
    "`def Send_completion_email(From_email, To_email, server, Password):`\n",
    "\n",
    "**INPUTS:** \n",
    "- email address from and to \n",
    "- server that email is from (I've tested on gmail)\n",
    "- password for the email address\n",
    "\n",
    "**Example**\n",
    "```\n",
    "FROM_EMAIL = Elsa7762@colorado.edu\n",
    "SERVER = \"imap.gmail.com\"\n",
    "E.Send_completion_email(FROM_EMAIL, FROM_EMAIL, SERVER, password)\n",
    "```\n",
    "**OUTPUT** \n",
    "- Sends an email to `To_email` with text _'Hello, Your Code Has finished running!'_"
   ]
  },
  {
   "cell_type": "markdown",
   "metadata": {},
   "source": [
    "### Update on progress email\n",
    "This function is useful when the script has a lot of steps and in the middle of these steps, you want to know that your program has reached a certain checkpoint.  For example, midway through the code it is useful to get an update email notifying you that everything is still working.\n",
    "\n",
    "`def Send_update_email(From_email, To_email, server, Password,val_text):`\n",
    "\n",
    "**INPUTS:** _(same inputs as above but has parameter val_text)_\n",
    "- email address from and to \n",
    "- server that email is from (I've tested on gmail)\n",
    "- password for the email address\n",
    "- val_text contains the update you want to send \n",
    "    - _example_ 'your code has made it to this point'\n",
    "    \n",
    "**Example**\n",
    "```\n",
    "FROM_EMAIL = Elsa7762@colorado.edu\n",
    "SERVER = \"imap.gmail.com\"\n",
    "val_text = 'your code has made it to this checkpoint!'\n",
    "E.Send_update_email(FROM_EMAIL, FROM_EMAIL, SERVER, password,val_text)\n",
    "\n",
    "```\n",
    "**OUTPUT** \n",
    "- Sends an email to `To_email` with text that was specified with `val_text`\n",
    "    "
   ]
  },
  {
   "cell_type": "markdown",
   "metadata": {},
   "source": [
    "**------------------------------------------------------------------------**\n",
    "\n",
    "### Other applications\n",
    "This could also be used in a email interface (which is the original reason I built this). I may come back to this and create my own spam filtering system.  also has the posibily to allow for searching within my email.  The possibilities are limitless, but since this is for my own personal use, I will stick with just the application I need"
   ]
  },
  {
   "cell_type": "markdown",
   "metadata": {},
   "source": [
    "**------------------------------------------------------------------------**\n",
    "## SMS Interface\n",
    "- SMS are nice because they tend to be a little bit more immediate. I do not recieve notifications on my phone about new emails, and so if I running an expensive virtual machine, to minimize cost, it is useful to know exactly when the code has completed.\n",
    "\n",
    "### Step 1. Setting up a twilio account\n",
    "- The first thing that needs to be done is to set up an account with twillo.  This will be the interface I use to send text messages\n",
    "    - This requires setting up and account and following this verifying your phone number and setting up a project\n",
    "Once the account is set up, you will find that you have two tokens:\n",
    "\n",
    "- `accountSID`\n",
    "- `authToken`\n",
    "\n",
    "These will be very important later on, so don't close this window\n",
    "\n",
    "### Step 2. Install Twilio\n",
    "- To do this step, I just needed to do a `pip install twilio`\n",
    "- I'm sure you could do the same with `brew install`\n",
    "\n",
    "### Step 3. Buy (or free trial) Twilio phone number\n",
    "- The number that I set up for my free trial is: +19708251178\n",
    "- [PhoneNumPage](https://www.twilio.com/console/phone-numbers/incoming)\n",
    "\n",
    "Thats all!  Now you can just call the script import sms_interface.py and call the function 'send_update_text'\n",
    "\n",
    "When setting up for a specific project there are a few things that need to be changed in the script.\n",
    "1. Put in your `account_sid` and `auth_token`  These can be found [here](https://twilio.com/user/account)\n",
    "    - I did not put these in because this is uploaded to gihub and ya gotta be safe\n",
    "2. Put in the to and from number.  The `from` number needs to the number that you set in step 3\n",
    "\n",
    "Here is the code containted in the `sms_interface.py` file:\n",
    "```\n",
    "from twilio.rest import Client\n",
    "def send_update_text(text):\n",
    "    # Find these values at https://twilio.com/user/account\n",
    "    account_sid = \"--\"\n",
    "    auth_token = \"--\"\n",
    "\n",
    "    client = Client(account_sid, auth_token)\n",
    "\n",
    "    client.messages.create(\n",
    "        to=\"+19707697884\",\n",
    "        from_=\"+19708251178\",\n",
    "        body=text\n",
    "    )\n",
    "    ```\n",
    "\n",
    "\n",
    "\n"
   ]
  },
  {
   "cell_type": "markdown",
   "metadata": {},
   "source": [
    "## Other applications of the sms interface:\n",
    "- Another way to use this interface is to set up daily text or emails that tell you the weather! Here is some example code to get this information and send it!\n",
    "\n",
    "- Make sure you install `pip install weather-api`\n",
    "\n",
    "**Below** is an implementation of how to get the weather API to work, and one could use this to send themselves a text or email daily that contains the weather for the upcoming week.  **Pretty Rad**"
   ]
  },
  {
   "cell_type": "code",
   "execution_count": 39,
   "metadata": {},
   "outputs": [
    {
     "name": "stdout",
     "output_type": "stream",
     "text": [
      "On the day:  07 Apr 2018 || The forcast is:  Rain || The high is  60.8 F and low is  53.6 F\n",
      "----------------------------------------------------------------------------------------------------\n",
      "On the day:  08 Apr 2018 || The forcast is:  Sunny || The high is  59.0 F and low is  50.0 F\n",
      "----------------------------------------------------------------------------------------------------\n",
      "On the day:  09 Apr 2018 || The forcast is:  Partly Cloudy || The high is  64.4 F and low is  50.0 F\n",
      "----------------------------------------------------------------------------------------------------\n",
      "On the day:  10 Apr 2018 || The forcast is:  Mostly Cloudy || The high is  60.8 F and low is  53.6 F\n",
      "----------------------------------------------------------------------------------------------------\n",
      "On the day:  11 Apr 2018 || The forcast is:  Showers || The high is  59.0 F and low is  50.0 F\n",
      "----------------------------------------------------------------------------------------------------\n",
      "On the day:  12 Apr 2018 || The forcast is:  Rain || The high is  55.4 F and low is  48.2 F\n",
      "----------------------------------------------------------------------------------------------------\n",
      "On the day:  13 Apr 2018 || The forcast is:  Mostly Sunny || The high is  59.0 F and low is  46.4 F\n",
      "----------------------------------------------------------------------------------------------------\n",
      "On the day:  14 Apr 2018 || The forcast is:  Partly Cloudy || The high is  60.8 F and low is  50.0 F\n",
      "----------------------------------------------------------------------------------------------------\n",
      "On the day:  15 Apr 2018 || The forcast is:  Partly Cloudy || The high is  57.2 F and low is  50.0 F\n",
      "----------------------------------------------------------------------------------------------------\n",
      "On the day:  16 Apr 2018 || The forcast is:  Rain || The high is  57.2 F and low is  48.2 F\n",
      "----------------------------------------------------------------------------------------------------\n"
     ]
    }
   ],
   "source": [
    "from weather import Weather\n",
    "weather = Weather()\n",
    "\n",
    "#Convert Celsius to Fahrenheit\n",
    "def cel_to_far(degrees_cel):\n",
    "    return float(degrees_cel)*9/5 + 32\n",
    "\n",
    "# Lookup via location name.\n",
    "location = weather.lookup_by_location('San Francisco')\n",
    "condition = location.condition\n",
    "\n",
    "# Get weather forecasts for the upcoming days.\n",
    "forecasts = location.forecast\n",
    "for forecast in forecasts:\n",
    "    print('On the day: ',\n",
    "          forecast.date,\n",
    "          '|| The forcast is: ',\n",
    "         forecast.text,\n",
    "         '|| The high is ',cel_to_far(forecast.high),'F and low is ',cel_to_far(forecast.low),'F')\n",
    "    print('--'*50)\n",
    "    \n",
    "    "
   ]
  }
 ],
 "metadata": {
  "kernelspec": {
   "display_name": "Python 3",
   "language": "python",
   "name": "python3"
  },
  "language_info": {
   "codemirror_mode": {
    "name": "ipython",
    "version": 3
   },
   "file_extension": ".py",
   "mimetype": "text/x-python",
   "name": "python",
   "nbconvert_exporter": "python",
   "pygments_lexer": "ipython3",
   "version": "3.6.5"
  }
 },
 "nbformat": 4,
 "nbformat_minor": 2
}
